{
 "cells": [
  {
   "cell_type": "code",
   "execution_count": 1,
   "metadata": {
    "editable": true
   },
   "outputs": [],
   "source": [
    "%run create_tables.py"
   ]
  },
  {
   "cell_type": "code",
   "execution_count": 2,
   "metadata": {
    "editable": true
   },
   "outputs": [
    {
     "name": "stdout",
     "output_type": "stream",
     "text": [
      "82 files found in data/song_data\n",
      "1/82 files processed.\n",
      "2/82 files processed.\n",
      "3/82 files processed.\n",
      "4/82 files processed.\n",
      "5/82 files processed.\n",
      "6/82 files processed.\n",
      "7/82 files processed.\n",
      "8/82 files processed.\n",
      "9/82 files processed.\n",
      "10/82 files processed.\n",
      "11/82 files processed.\n",
      "12/82 files processed.\n",
      "13/82 files processed.\n",
      "14/82 files processed.\n",
      "15/82 files processed.\n",
      "16/82 files processed.\n",
      "17/82 files processed.\n",
      "18/82 files processed.\n",
      "19/82 files processed.\n",
      "20/82 files processed.\n",
      "21/82 files processed.\n",
      "22/82 files processed.\n",
      "23/82 files processed.\n",
      "24/82 files processed.\n",
      "25/82 files processed.\n",
      "26/82 files processed.\n",
      "27/82 files processed.\n",
      "28/82 files processed.\n",
      "29/82 files processed.\n",
      "30/82 files processed.\n",
      "31/82 files processed.\n",
      "32/82 files processed.\n",
      "33/82 files processed.\n",
      "34/82 files processed.\n",
      "35/82 files processed.\n",
      "36/82 files processed.\n",
      "37/82 files processed.\n",
      "38/82 files processed.\n",
      "39/82 files processed.\n",
      "40/82 files processed.\n",
      "41/82 files processed.\n",
      "42/82 files processed.\n",
      "43/82 files processed.\n",
      "44/82 files processed.\n",
      "45/82 files processed.\n",
      "46/82 files processed.\n",
      "47/82 files processed.\n",
      "48/82 files processed.\n",
      "49/82 files processed.\n",
      "50/82 files processed.\n",
      "51/82 files processed.\n",
      "52/82 files processed.\n",
      "53/82 files processed.\n",
      "54/82 files processed.\n",
      "55/82 files processed.\n",
      "56/82 files processed.\n",
      "57/82 files processed.\n",
      "58/82 files processed.\n",
      "59/82 files processed.\n",
      "60/82 files processed.\n",
      "61/82 files processed.\n",
      "62/82 files processed.\n",
      "63/82 files processed.\n",
      "64/82 files processed.\n",
      "65/82 files processed.\n",
      "66/82 files processed.\n",
      "67/82 files processed.\n",
      "68/82 files processed.\n",
      "69/82 files processed.\n",
      "70/82 files processed.\n",
      "71/82 files processed.\n",
      "72/82 files processed.\n",
      "73/82 files processed.\n",
      "74/82 files processed.\n",
      "75/82 files processed.\n",
      "76/82 files processed.\n",
      "77/82 files processed.\n",
      "78/82 files processed.\n",
      "79/82 files processed.\n",
      "80/82 files processed.\n",
      "81/82 files processed.\n",
      "82/82 files processed.\n",
      "32 files found in data/log_data\n",
      "1/32 files processed.\n",
      "2/32 files processed.\n",
      "3/32 files processed.\n",
      "4/32 files processed.\n",
      "5/32 files processed.\n",
      "6/32 files processed.\n",
      "7/32 files processed.\n",
      "8/32 files processed.\n",
      "9/32 files processed.\n",
      "10/32 files processed.\n",
      "11/32 files processed.\n",
      "12/32 files processed.\n",
      "13/32 files processed.\n",
      "14/32 files processed.\n",
      "15/32 files processed.\n",
      "16/32 files processed.\n",
      "17/32 files processed.\n",
      "18/32 files processed.\n",
      "19/32 files processed.\n",
      "20/32 files processed.\n",
      "21/32 files processed.\n",
      "22/32 files processed.\n",
      "23/32 files processed.\n",
      "24/32 files processed.\n",
      "25/32 files processed.\n",
      "26/32 files processed.\n",
      "27/32 files processed.\n",
      "28/32 files processed.\n",
      "29/32 files processed.\n",
      "30/32 files processed.\n",
      "31/32 files processed.\n",
      "32/32 files processed.\n"
     ]
    }
   ],
   "source": [
    "%run etl.py"
   ]
  },
  {
   "cell_type": "code",
   "execution_count": null,
   "metadata": {
    "editable": true
   },
   "outputs": [],
   "source": []
  }
 ],
 "metadata": {
  "kernelspec": {
   "display_name": "Python 3",
   "language": "python",
   "name": "python3"
  },
  "language_info": {
   "codemirror_mode": {
    "name": "ipython",
    "version": 3
   },
   "file_extension": ".py",
   "mimetype": "text/x-python",
   "name": "python",
   "nbconvert_exporter": "python",
   "pygments_lexer": "ipython3",
   "version": "3.6.3"
  }
 },
 "nbformat": 4,
 "nbformat_minor": 4
}
